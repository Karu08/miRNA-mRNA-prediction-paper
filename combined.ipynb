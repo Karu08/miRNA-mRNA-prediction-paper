{
 "cells": [
  {
   "cell_type": "code",
   "execution_count": 2,
   "metadata": {},
   "outputs": [],
   "source": [
    "import pandas as pd\n",
    "from sklearn.ensemble import RandomForestClassifier, StackingClassifier\n",
    "from sklearn.svm import SVC\n",
    "from sklearn.svm import LinearSVC\n",
    "from xgboost import XGBClassifier\n",
    "from sklearn.neighbors import KNeighborsClassifier\n",
    "from sklearn.linear_model import LogisticRegression\n",
    "from sklearn.preprocessing import StandardScaler\n",
    "from sklearn.model_selection import StratifiedKFold\n",
    "from sklearn.pipeline import make_pipeline\n",
    "\n",
    "from sklearn.metrics import accuracy_score, classification_report"
   ]
  },
  {
   "cell_type": "code",
   "execution_count": 67,
   "metadata": {},
   "outputs": [
    {
     "name": "stdout",
     "output_type": "stream",
     "text": [
      "Requirement already satisfied: optuna in c:\\users\\karur\\appdata\\local\\programs\\python\\python311\\lib\\site-packages (4.1.0)\n",
      "Requirement already satisfied: alembic>=1.5.0 in c:\\users\\karur\\appdata\\local\\programs\\python\\python311\\lib\\site-packages (from optuna) (1.14.0)\n",
      "Requirement already satisfied: colorlog in c:\\users\\karur\\appdata\\local\\programs\\python\\python311\\lib\\site-packages (from optuna) (6.9.0)\n",
      "Requirement already satisfied: numpy in c:\\users\\karur\\appdata\\local\\programs\\python\\python311\\lib\\site-packages (from optuna) (1.26.4)\n",
      "Requirement already satisfied: packaging>=20.0 in c:\\users\\karur\\appdata\\roaming\\python\\python311\\site-packages (from optuna) (24.1)\n",
      "Requirement already satisfied: sqlalchemy>=1.4.2 in c:\\users\\karur\\appdata\\local\\programs\\python\\python311\\lib\\site-packages (from optuna) (2.0.36)\n",
      "Requirement already satisfied: tqdm in c:\\users\\karur\\appdata\\local\\programs\\python\\python311\\lib\\site-packages (from optuna) (4.67.0)\n",
      "Requirement already satisfied: PyYAML in c:\\users\\karur\\appdata\\local\\programs\\python\\python311\\lib\\site-packages (from optuna) (6.0.2)\n",
      "Requirement already satisfied: Mako in c:\\users\\karur\\appdata\\local\\programs\\python\\python311\\lib\\site-packages (from alembic>=1.5.0->optuna) (1.3.8)\n",
      "Requirement already satisfied: typing-extensions>=4 in c:\\users\\karur\\appdata\\roaming\\python\\python311\\site-packages (from alembic>=1.5.0->optuna) (4.12.2)\n",
      "Requirement already satisfied: greenlet!=0.4.17 in c:\\users\\karur\\appdata\\local\\programs\\python\\python311\\lib\\site-packages (from sqlalchemy>=1.4.2->optuna) (3.1.1)\n",
      "Requirement already satisfied: colorama in c:\\users\\karur\\appdata\\roaming\\python\\python311\\site-packages (from colorlog->optuna) (0.4.6)\n",
      "Requirement already satisfied: MarkupSafe>=0.9.2 in c:\\users\\karur\\appdata\\local\\programs\\python\\python311\\lib\\site-packages (from Mako->alembic>=1.5.0->optuna) (2.1.5)\n",
      "Note: you may need to restart the kernel to use updated packages.\n"
     ]
    },
    {
     "name": "stderr",
     "output_type": "stream",
     "text": [
      "\n",
      "[notice] A new release of pip is available: 23.2.1 -> 24.3.1\n",
      "[notice] To update, run: python.exe -m pip install --upgrade pip\n"
     ]
    }
   ],
   "source": [
    "pip install optuna"
   ]
  },
  {
   "cell_type": "code",
   "execution_count": null,
   "metadata": {},
   "outputs": [
    {
     "name": "stdout",
     "output_type": "stream",
     "text": [
      "Combining train features...\n",
      "Combining validation features...\n"
     ]
    }
   ],
   "source": [
    "# Step 1: Combine Features\n",
    "def combine_features(file_paths, label_column=\"label\"):\n",
    "\n",
    "    combined_features = None\n",
    "    for file_path in file_paths:\n",
    "        data = pd.read_csv(file_path)\n",
    "        if combined_features is None:\n",
    "            combined_features = data\n",
    "        else:\n",
    "            combined_features = pd.concat([combined_features, data.drop(columns=[label_column])], axis=1)\n",
    "    return combined_features\n",
    "\n",
    "# File paths for the 5 encoding methods (train and validation)\n",
    "train_files = [\n",
    "    \"train_kmer_features_scaled1.csv\",\n",
    "    \"train_dpcp_features_scaled.csv\",\n",
    "    \"train_scpseudnc_features_scaled.csv\",\n",
    "    \"train_pseknc_features_scaled.csv\",\n",
    "    \"train_pcpsednc_features_scaled.csv\"\n",
    "]\n",
    "\n",
    "validation_files = [\n",
    "    \"validation_kmer_features_scaled1.csv\",\n",
    "    \"validation_dpcp_features_scaled.csv\",\n",
    "    \"validation_scpseudnc_features_scaled.csv\",\n",
    "    \"validation_pseknc_features_scaled.csv\",\n",
    "    \"validation_pcpsednc_features_scaled.csv\"\n",
    "]\n",
    "\n",
    "# Combine train and validation features\n",
    "print(\"Combining train features...\")\n",
    "train_combined = combine_features(train_files)\n",
    "train_labels = pd.read_csv(train_files[0])[\"label\"]  \n",
    "train_combined[\"label\"] = train_labels\n",
    "\n",
    "print(\"Combining validation features...\")\n",
    "validation_combined = combine_features(validation_files)\n",
    "validation_labels = pd.read_csv(validation_files[0])[\"label\"]  \n",
    "validation_combined[\"label\"] = validation_labels\n"
   ]
  },
  {
   "cell_type": "code",
   "execution_count": null,
   "metadata": {},
   "outputs": [
    {
     "data": {
      "text/plain": [
       "'\\n# Initialize and fit StandardScaler on training data\\nscaler = StandardScaler()\\ntrain_X_scaled = scaler.fit_transform(train_X)\\n\\n# Scale validation data using the same scaler\\nvalidation_X_scaled = scaler.transform(validation_X)\\n'"
      ]
     },
     "execution_count": 4,
     "metadata": {},
     "output_type": "execute_result"
    }
   ],
   "source": [
    "# Step 2: Separate features and labels\n",
    "\n",
    "train_X = train_combined.drop(columns=[\"label\"])\n",
    "train_y = train_combined[\"label\"]\n",
    "\n",
    "validation_X = validation_combined.drop(columns=[\"label\"])\n",
    "validation_y = validation_combined[\"label\"]\n",
    "\n",
    "'''\n",
    "scaler = StandardScaler()\n",
    "train_X_scaled = scaler.fit_transform(train_X)\n",
    "\n",
    "# Scale validation data using the same scaler\n",
    "validation_X_scaled = scaler.transform(validation_X)\n",
    "'''\n"
   ]
  },
  {
   "cell_type": "code",
   "execution_count": 5,
   "metadata": {},
   "outputs": [
    {
     "name": "stdout",
     "output_type": "stream",
     "text": [
      "(54464, 276)\n"
     ]
    }
   ],
   "source": [
    "print(train_X.shape)"
   ]
  },
  {
   "cell_type": "markdown",
   "metadata": {},
   "source": [
    "PREPROCESSING"
   ]
  },
  {
   "cell_type": "code",
   "execution_count": 6,
   "metadata": {},
   "outputs": [
    {
     "name": "stdout",
     "output_type": "stream",
     "text": [
      "Duplicate columns found: Index(['comp_AA', 'comp_AC', 'comp_AG', 'comp_AU', 'comp_CA', 'comp_CC',\n",
      "       'comp_CG', 'comp_CU', 'comp_GA', 'comp_GC', 'comp_GG', 'comp_GU',\n",
      "       'comp_UA', 'comp_UC', 'comp_UG', 'comp_UU', 'comp_AA', 'comp_AC',\n",
      "       'comp_AG', 'comp_AU', 'comp_CA', 'comp_CC', 'comp_CG', 'comp_CU',\n",
      "       'comp_GA', 'comp_GC', 'comp_GG', 'comp_GU', 'comp_UA', 'comp_UC',\n",
      "       'comp_UG', 'comp_UU', 'pseudo_1', 'pseudo_2', 'pseudo_3', 'pseudo_4',\n",
      "       'pseudo_5'],\n",
      "      dtype='object')\n"
     ]
    }
   ],
   "source": [
    "# Check for duplicate columns in the dataset\n",
    "duplicate_columns = train_X.columns[train_X.columns.duplicated()]\n",
    "\n",
    "if len(duplicate_columns) > 0:\n",
    "    print(\"Duplicate columns found:\", duplicate_columns)\n",
    "else:\n",
    "    print(\"No duplicate columns in the dataset.\")\n"
   ]
  },
  {
   "cell_type": "code",
   "execution_count": 7,
   "metadata": {},
   "outputs": [
    {
     "name": "stdout",
     "output_type": "stream",
     "text": [
      "Shape of train_X after removing duplicates: (54464, 239)\n",
      "Shape of validation_X after removing duplicates: (4329, 239)\n"
     ]
    }
   ],
   "source": [
    "# Drop duplicate columns from train_X and validation_X\n",
    "train_X = train_X.loc[:, ~train_X.columns.duplicated()]\n",
    "validation_X = validation_X.loc[:, ~validation_X.columns.duplicated()]\n",
    "\n",
    "print(\"Shape of train_X after removing duplicates:\", train_X.shape)\n",
    "print(\"Shape of validation_X after removing duplicates:\", validation_X.shape)\n"
   ]
  },
  {
   "cell_type": "code",
   "execution_count": 8,
   "metadata": {},
   "outputs": [
    {
     "name": "stdout",
     "output_type": "stream",
     "text": [
      "            AAA      AAC       AAG       AAU       ACA       ACC       ACG  \\\n",
      "0     -0.519133 -0.46837 -0.604317 -0.544937 -0.782923 -0.692765 -0.209141   \n",
      "1     -0.519133 -0.46837 -0.604317 -0.544937 -0.782923 -0.692765 -0.209141   \n",
      "2     -0.519133 -0.46837 -0.604317 -0.544937 -0.782923 -0.692765 -0.209141   \n",
      "3     -0.519133 -0.46837 -0.604317 -0.544937 -0.782923 -0.692765 -0.209141   \n",
      "4     -0.519133 -0.46837 -0.604317 -0.544937 -0.782923 -0.692765 -0.209141   \n",
      "...         ...      ...       ...       ...       ...       ...       ...   \n",
      "54459 -0.519133 -0.46837 -0.604317 -0.544937  0.962671 -0.692765  4.586468   \n",
      "54460 -0.519133 -0.46837 -0.604317 -0.544937  0.962671 -0.692765  4.586468   \n",
      "54461 -0.519133 -0.46837 -0.604317 -0.544937  0.962671 -0.692765  4.586468   \n",
      "54462 -0.519133 -0.46837 -0.604317 -0.544937  0.962671 -0.692765  4.586468   \n",
      "54463  0.941947 -0.46837 -0.604317  1.668064 -0.782923  1.253247 -0.209141   \n",
      "\n",
      "            ACU       AGA       AGC  ...   pc_GU.1   pc_UA.1   pc_UC.1  \\\n",
      "0     -0.502985 -0.516375 -0.523832  ... -0.114747  0.862061 -0.089914   \n",
      "1     -0.502985 -0.516375 -0.523832  ...  0.538700  1.409854  1.213536   \n",
      "2     -0.502985 -0.516375 -0.523832  ...  0.538700  1.957647 -0.741639   \n",
      "3     -0.502985 -0.516375 -0.523832  ... -0.114747 -0.233524 -0.089914   \n",
      "4     -0.502985 -0.516375 -0.523832  ... -1.421640 -0.233524  0.561811   \n",
      "...         ...       ...       ...  ...       ...       ...       ...   \n",
      "54459 -0.502985  1.657906  2.666152  ...  0.538700 -1.329109  1.865262   \n",
      "54460 -0.502985  1.657906  2.666152  ...  0.538700 -1.329109  3.168712   \n",
      "54461 -0.502985  1.657906  2.666152  ... -0.114747 -1.329109  3.168712   \n",
      "54462 -0.502985  1.657906  2.666152  ...  0.538700 -1.329109  3.820437   \n",
      "54463 -0.502985 -0.516375  1.071160  ...  1.192147  0.314269  0.561811   \n",
      "\n",
      "        pc_UG.1   pc_UU.1  pseudo_1.1  pseudo_2.1  pseudo_3.1  pseudo_4.1  \\\n",
      "0     -0.150289  0.295174    0.908481    0.055850   -0.889292    0.655875   \n",
      "1     -1.315130  1.249450   -0.024774    1.699413    0.364650   -0.918315   \n",
      "2     -0.150289  0.931358    0.784047   -0.197006   -0.826595    1.180605   \n",
      "3     -0.150289  0.295174   -0.584728   -0.197006   -0.262321    0.655875   \n",
      "4     -1.315130 -0.977193   -1.704634   -1.840570   -1.140080   -1.115088   \n",
      "...         ...       ...         ...         ...         ...         ...   \n",
      "54459  1.014552 -0.977193   -0.709162   -0.576290   -0.199624    0.262328   \n",
      "54460  0.432132 -0.341010    0.161877   -1.271644   -0.889292    0.852649   \n",
      "54461  0.432132 -0.341010    0.410745   -0.576290   -1.202777    1.508561   \n",
      "54462  0.432132 -0.341010    0.286311   -0.576290   -0.951989    2.361247   \n",
      "54463  0.432132 -0.977193   -0.273642    1.572985    2.057472    0.327919   \n",
      "\n",
      "       pseudo_5.1  \n",
      "0        1.651238  \n",
      "1       -0.900246  \n",
      "2       -0.967390  \n",
      "3       -0.094514  \n",
      "4       -0.765957  \n",
      "...           ...  \n",
      "54459    0.241207  \n",
      "54460   -1.101679  \n",
      "54461   -0.765957  \n",
      "54462   -0.497380  \n",
      "54463   -0.698813  \n",
      "\n",
      "[54464 rows x 239 columns]\n"
     ]
    }
   ],
   "source": [
    "print(train_X)"
   ]
  },
  {
   "cell_type": "code",
   "execution_count": null,
   "metadata": {},
   "outputs": [
    {
     "name": "stdout",
     "output_type": "stream",
     "text": [
      "                 AAA       AAC       AAG       AAU       ACA       ACC  \\\n",
      "AAA         1.000000  0.238580  0.398908  0.240431 -0.025965 -0.223956   \n",
      "AAC         0.238580  1.000000 -0.102728 -0.015548  0.103603  0.184444   \n",
      "AAG         0.398908 -0.102728  1.000000 -0.074818 -0.068809 -0.279184   \n",
      "AAU         0.240431 -0.015548 -0.074818  1.000000 -0.321651 -0.164689   \n",
      "ACA        -0.025965  0.103603 -0.068809 -0.321651  1.000000  0.180794   \n",
      "...              ...       ...       ...       ...       ...       ...   \n",
      "pseudo_1.1  0.039142  0.045537  0.020344  0.082173 -0.015177 -0.022568   \n",
      "pseudo_2.1  0.067222  0.062079  0.044762  0.026339  0.026638 -0.049721   \n",
      "pseudo_3.1  0.049396  0.068214  0.055777  0.023091  0.007932 -0.029338   \n",
      "pseudo_4.1  0.045564  0.064644  0.018096  0.042312  0.041725 -0.004911   \n",
      "pseudo_5.1  0.057829  0.063498  0.038768  0.032557  0.046314 -0.020959   \n",
      "\n",
      "                 ACG       ACU       AGA       AGC  ...   pc_GU.1   pc_UA.1  \\\n",
      "AAA         0.068581  0.174813  0.007181  0.009339  ... -0.002368  0.095566   \n",
      "AAC         0.206241  0.330721  0.229288 -0.142631  ...  0.110308  0.068362   \n",
      "AAG        -0.086493  0.066092  0.144418 -0.069176  ... -0.032997  0.116867   \n",
      "AAU         0.069958 -0.031746 -0.090418  0.181558  ... -0.018272  0.061357   \n",
      "ACA         0.086220 -0.052657 -0.225024  0.029942  ...  0.106705 -0.026223   \n",
      "...              ...       ...       ...       ...  ...       ...       ...   \n",
      "pseudo_1.1  0.010914  0.006660  0.004614  0.038901  ...  0.072794  0.138054   \n",
      "pseudo_2.1 -0.005212  0.048215 -0.007816 -0.007337  ...  0.165522  0.163961   \n",
      "pseudo_3.1  0.003899  0.066147  0.004848 -0.075944  ...  0.223452  0.170374   \n",
      "pseudo_4.1  0.024521  0.044109  0.001987  0.016264  ...  0.221776  0.147169   \n",
      "pseudo_5.1  0.002133  0.033070 -0.013189  0.008412  ...  0.220652  0.149831   \n",
      "\n",
      "             pc_UC.1   pc_UG.1   pc_UU.1  pseudo_1.1  pseudo_2.1  pseudo_3.1  \\\n",
      "AAA        -0.058072  0.007783  0.222181    0.039142    0.067222    0.049396   \n",
      "AAC        -0.023109  0.024381  0.105609    0.045537    0.062079    0.068214   \n",
      "AAG        -0.042267 -0.046225  0.175114    0.020344    0.044762    0.055777   \n",
      "AAU        -0.054260  0.068825  0.093581    0.082173    0.026339    0.023091   \n",
      "ACA        -0.068245  0.113859 -0.018777   -0.015177    0.026638    0.007932   \n",
      "...              ...       ...       ...         ...         ...         ...   \n",
      "pseudo_1.1 -0.041601  0.127149  0.363148    1.000000    0.374078    0.293647   \n",
      "pseudo_2.1 -0.097482  0.204588  0.248108    0.374078    1.000000    0.423639   \n",
      "pseudo_3.1 -0.116726  0.191937  0.279199    0.293647    0.423639    1.000000   \n",
      "pseudo_4.1 -0.110157  0.226538  0.253713    0.272863    0.277107    0.429197   \n",
      "pseudo_5.1 -0.105544  0.210661  0.250033    0.297556    0.295456    0.291918   \n",
      "\n",
      "            pseudo_4.1  pseudo_5.1  \n",
      "AAA           0.045564    0.057829  \n",
      "AAC           0.064644    0.063498  \n",
      "AAG           0.018096    0.038768  \n",
      "AAU           0.042312    0.032557  \n",
      "ACA           0.041725    0.046314  \n",
      "...                ...         ...  \n",
      "pseudo_1.1    0.272863    0.297556  \n",
      "pseudo_2.1    0.277107    0.295456  \n",
      "pseudo_3.1    0.429197    0.291918  \n",
      "pseudo_4.1    1.000000    0.429745  \n",
      "pseudo_5.1    0.429745    1.000000  \n",
      "\n",
      "[239 rows x 239 columns]\n",
      "Number of correlated features: 68\n",
      "Correlated features: {'pc_AG.1', 'comp_UA.1', 'comp_GC', 'pc_CU.1', 'comp_CG', 'comp_GC.1', 'comp_GA', 'sc_lambda_2', 'comp_GA.1', 'pc_AU', 'comp_GU', 'pc_UU.1', 'comp_UG.1', 'pc_GA', 'comp_UG', 'comp_GU.1', 'sc_lambda_4', 'comp_UU', 'pc_GC.1', 'comp_AA', 'pc_UC', 'comp_CU.1', 'comp_AG.1', 'pc_GG.1', 'pc_UU', 'pc_GC', 'pc_GU.1', 'comp_CC.1', 'pc_AA', 'comp_CU', 'pc_GA.1', 'comp_AG', 'pc_AC.1', 'pc_CC', 'comp_AC.1', 'comp_CA.1', 'pc_GG', 'pc_UA', 'comp_AA.1', 'comp_GG.1', 'comp_AU', 'comp_UC', 'pc_UG.1', 'pc_CG', 'comp_UU.1', 'pc_UG', 'comp_AC', 'comp_CG.1', 'pc_CC.1', 'comp_UA', 'pc_CU', 'sc_lambda_5', 'sc_lambda_3', 'comp_CC', 'pc_AU.1', 'comp_AU.1', 'pc_UA.1', 'pc_AC', 'pc_CA', 'pc_CA.1', 'comp_CA', 'comp_GG', 'pc_UC.1', 'pc_AG', 'pc_AA.1', 'comp_UC.1', 'pc_CG.1', 'pc_GU'}\n"
     ]
    }
   ],
   "source": [
    "def find_correlated_features(dataset, threshold=0.95):\n",
    "    \n",
    "    col_corr = set()  # Set to hold correlated columns\n",
    "    corr_matrix = dataset.corr()  \n",
    "    print(corr_matrix)\n",
    "    \n",
    "    for i in range(len(corr_matrix.columns)):\n",
    "        for j in range(i):\n",
    "            if abs(corr_matrix.iloc[i, j]) > threshold:  \n",
    "                colname = corr_matrix.columns[i]  # Get the name of the feature\n",
    "                col_corr.add(colname)  # Add the feature to the set of correlated features\n",
    "    \n",
    "    return col_corr\n",
    "\n",
    "\n",
    "# Find correlated features in train data\n",
    "corr_features = find_correlated_features(train_X, threshold=0.95)\n",
    "print(\"Number of correlated features:\", len(corr_features))\n",
    "print(\"Correlated features:\", corr_features)\n"
   ]
  },
  {
   "cell_type": "code",
   "execution_count": null,
   "metadata": {},
   "outputs": [
    {
     "name": "stdout",
     "output_type": "stream",
     "text": [
      "Initial training set shape: (54464, 239)\n",
      "Initial validation set shape: (4329, 239)\n",
      "Training set shape after removal: (54464, 171)\n",
      "Validation set shape after removal: (4329, 171)\n",
      "Remaining features: Index(['AAA', 'AAC', 'AAG', 'AAU', 'ACA', 'ACC', 'ACG', 'ACU', 'AGA', 'AGC',\n",
      "       ...\n",
      "       'pseudo_1', 'pseudo_2', 'pseudo_3', 'pseudo_4', 'pseudo_5',\n",
      "       'pseudo_1.1', 'pseudo_2.1', 'pseudo_3.1', 'pseudo_4.1', 'pseudo_5.1'],\n",
      "      dtype='object', length=171)\n"
     ]
    }
   ],
   "source": [
    "import pandas as pd\n",
    "\n",
    "original_feature_names_train = list(train_X.columns)\n",
    "original_feature_names_val = list(validation_X.columns)\n",
    "\n",
    "# Convert train and validation data to DataFrames (using the original feature names)\n",
    "X_train_df = pd.DataFrame(train_X, columns=original_feature_names_train)\n",
    "X_val_df = pd.DataFrame(validation_X, columns=original_feature_names_val)\n",
    "\n",
    "print(\"Initial training set shape:\", X_train_df.shape)\n",
    "print(\"Initial validation set shape:\", X_val_df.shape)\n",
    "\n",
    "corr_features = [col for col in corr_features if col in X_train_df.columns]\n",
    "\n",
    "# Drop correlated features from both train and validation sets\n",
    "X_train_df.drop(columns=corr_features, inplace=True)\n",
    "X_val_df.drop(columns=corr_features, inplace=True)\n",
    "\n",
    "# Debug: Check final state\n",
    "print(\"Training set shape after removal:\", X_train_df.shape)\n",
    "print(\"Validation set shape after removal:\", X_val_df.shape)\n",
    "print(\"Remaining features:\", X_train_df.columns)\n"
   ]
  },
  {
   "cell_type": "code",
   "execution_count": 11,
   "metadata": {},
   "outputs": [
    {
     "name": "stdout",
     "output_type": "stream",
     "text": [
      "            AAA      AAC       AAG       AAU       ACA       ACC       ACG  \\\n",
      "0     -0.519133 -0.46837 -0.604317 -0.544937 -0.782923 -0.692765 -0.209141   \n",
      "1     -0.519133 -0.46837 -0.604317 -0.544937 -0.782923 -0.692765 -0.209141   \n",
      "2     -0.519133 -0.46837 -0.604317 -0.544937 -0.782923 -0.692765 -0.209141   \n",
      "3     -0.519133 -0.46837 -0.604317 -0.544937 -0.782923 -0.692765 -0.209141   \n",
      "4     -0.519133 -0.46837 -0.604317 -0.544937 -0.782923 -0.692765 -0.209141   \n",
      "...         ...      ...       ...       ...       ...       ...       ...   \n",
      "54459 -0.519133 -0.46837 -0.604317 -0.544937  0.962671 -0.692765  4.586468   \n",
      "54460 -0.519133 -0.46837 -0.604317 -0.544937  0.962671 -0.692765  4.586468   \n",
      "54461 -0.519133 -0.46837 -0.604317 -0.544937  0.962671 -0.692765  4.586468   \n",
      "54462 -0.519133 -0.46837 -0.604317 -0.544937  0.962671 -0.692765  4.586468   \n",
      "54463  0.941947 -0.46837 -0.604317  1.668064 -0.782923  1.253247 -0.209141   \n",
      "\n",
      "            ACU       AGA       AGC  ...  pseudo_1  pseudo_2  pseudo_3  \\\n",
      "0     -0.502985 -0.516375 -0.523832  ... -0.347773  0.311352 -2.121532   \n",
      "1     -0.502985 -0.516375 -0.523832  ... -0.347773  0.311352 -2.121532   \n",
      "2     -0.502985 -0.516375 -0.523832  ... -0.347773  0.311352 -2.121532   \n",
      "3     -0.502985 -0.516375 -0.523832  ... -0.347773  0.311352 -2.121532   \n",
      "4     -0.502985 -0.516375 -0.523832  ...  0.281249  0.218156 -1.615802   \n",
      "...         ...       ...       ...  ...       ...       ...       ...   \n",
      "54459 -0.502985  1.657906  2.666152  ...  0.721114 -0.319069 -0.273080   \n",
      "54460 -0.502985  1.657906  2.666152  ...  0.721114 -0.319069 -0.273080   \n",
      "54461 -0.502985  1.657906  2.666152  ...  0.721114 -0.319069 -0.273080   \n",
      "54462 -0.502985  1.657906  2.666152  ...  0.721114 -0.319069 -0.273080   \n",
      "54463 -0.502985 -0.516375  1.071160  ...  0.380572 -0.585961  1.129983   \n",
      "\n",
      "       pseudo_4  pseudo_5  pseudo_1.1  pseudo_2.1  pseudo_3.1  pseudo_4.1  \\\n",
      "0     -1.338539 -0.537830    0.908481    0.055850   -0.889292    0.655875   \n",
      "1     -1.338539 -0.537830   -0.024774    1.699413    0.364650   -0.918315   \n",
      "2     -1.338539 -0.537830    0.784047   -0.197006   -0.826595    1.180605   \n",
      "3     -1.338539 -0.537830   -0.584728   -0.197006   -0.262321    0.655875   \n",
      "4     -0.977133 -0.242548   -1.704634   -1.840570   -1.140080   -1.115088   \n",
      "...         ...       ...         ...         ...         ...         ...   \n",
      "54459  0.070810 -0.894025   -0.709162   -0.576290   -0.199624    0.262328   \n",
      "54460  0.070810 -0.894025    0.161877   -1.271644   -0.889292    0.852649   \n",
      "54461  0.070810 -0.894025    0.410745   -0.576290   -1.202777    1.508561   \n",
      "54462  0.070810 -0.894025    0.286311   -0.576290   -0.951989    2.361247   \n",
      "54463  0.180795  1.974379   -0.273642    1.572985    2.057472    0.327919   \n",
      "\n",
      "       pseudo_5.1  \n",
      "0        1.651238  \n",
      "1       -0.900246  \n",
      "2       -0.967390  \n",
      "3       -0.094514  \n",
      "4       -0.765957  \n",
      "...           ...  \n",
      "54459    0.241207  \n",
      "54460   -1.101679  \n",
      "54461   -0.765957  \n",
      "54462   -0.497380  \n",
      "54463   -0.698813  \n",
      "\n",
      "[54464 rows x 171 columns]\n"
     ]
    }
   ],
   "source": [
    "print(X_train_df)"
   ]
  },
  {
   "cell_type": "code",
   "execution_count": 12,
   "metadata": {},
   "outputs": [
    {
     "data": {
      "text/plain": [
       "((54464, 171), (4329, 171))"
      ]
     },
     "execution_count": 12,
     "metadata": {},
     "output_type": "execute_result"
    }
   ],
   "source": [
    "import numpy as np \n",
    "\n",
    "X_train = np.array(X_train_df)\n",
    "X_val = np.array(X_val_df)\n",
    "\n",
    "X_train.shape, X_val.shape"
   ]
  },
  {
   "cell_type": "code",
   "execution_count": 13,
   "metadata": {},
   "outputs": [
    {
     "name": "stdout",
     "output_type": "stream",
     "text": [
      "            AAA      AAC       AAG       AAU       ACA       ACC       ACG  \\\n",
      "0     -0.519133 -0.46837 -0.604317 -0.544937 -0.782923 -0.692765 -0.209141   \n",
      "1     -0.519133 -0.46837 -0.604317 -0.544937 -0.782923 -0.692765 -0.209141   \n",
      "2     -0.519133 -0.46837 -0.604317 -0.544937 -0.782923 -0.692765 -0.209141   \n",
      "3     -0.519133 -0.46837 -0.604317 -0.544937 -0.782923 -0.692765 -0.209141   \n",
      "4     -0.519133 -0.46837 -0.604317 -0.544937 -0.782923 -0.692765 -0.209141   \n",
      "...         ...      ...       ...       ...       ...       ...       ...   \n",
      "54459 -0.519133 -0.46837 -0.604317 -0.544937  0.962671 -0.692765  4.586468   \n",
      "54460 -0.519133 -0.46837 -0.604317 -0.544937  0.962671 -0.692765  4.586468   \n",
      "54461 -0.519133 -0.46837 -0.604317 -0.544937  0.962671 -0.692765  4.586468   \n",
      "54462 -0.519133 -0.46837 -0.604317 -0.544937  0.962671 -0.692765  4.586468   \n",
      "54463  0.941947 -0.46837 -0.604317  1.668064 -0.782923  1.253247 -0.209141   \n",
      "\n",
      "            ACU       AGA       AGC  ...  pseudo_1  pseudo_2  pseudo_3  \\\n",
      "0     -0.502985 -0.516375 -0.523832  ... -0.347773  0.311352 -2.121532   \n",
      "1     -0.502985 -0.516375 -0.523832  ... -0.347773  0.311352 -2.121532   \n",
      "2     -0.502985 -0.516375 -0.523832  ... -0.347773  0.311352 -2.121532   \n",
      "3     -0.502985 -0.516375 -0.523832  ... -0.347773  0.311352 -2.121532   \n",
      "4     -0.502985 -0.516375 -0.523832  ...  0.281249  0.218156 -1.615802   \n",
      "...         ...       ...       ...  ...       ...       ...       ...   \n",
      "54459 -0.502985  1.657906  2.666152  ...  0.721114 -0.319069 -0.273080   \n",
      "54460 -0.502985  1.657906  2.666152  ...  0.721114 -0.319069 -0.273080   \n",
      "54461 -0.502985  1.657906  2.666152  ...  0.721114 -0.319069 -0.273080   \n",
      "54462 -0.502985  1.657906  2.666152  ...  0.721114 -0.319069 -0.273080   \n",
      "54463 -0.502985 -0.516375  1.071160  ...  0.380572 -0.585961  1.129983   \n",
      "\n",
      "       pseudo_4  pseudo_5  pseudo_1.1  pseudo_2.1  pseudo_3.1  pseudo_4.1  \\\n",
      "0     -1.338539 -0.537830    0.908481    0.055850   -0.889292    0.655875   \n",
      "1     -1.338539 -0.537830   -0.024774    1.699413    0.364650   -0.918315   \n",
      "2     -1.338539 -0.537830    0.784047   -0.197006   -0.826595    1.180605   \n",
      "3     -1.338539 -0.537830   -0.584728   -0.197006   -0.262321    0.655875   \n",
      "4     -0.977133 -0.242548   -1.704634   -1.840570   -1.140080   -1.115088   \n",
      "...         ...       ...         ...         ...         ...         ...   \n",
      "54459  0.070810 -0.894025   -0.709162   -0.576290   -0.199624    0.262328   \n",
      "54460  0.070810 -0.894025    0.161877   -1.271644   -0.889292    0.852649   \n",
      "54461  0.070810 -0.894025    0.410745   -0.576290   -1.202777    1.508561   \n",
      "54462  0.070810 -0.894025    0.286311   -0.576290   -0.951989    2.361247   \n",
      "54463  0.180795  1.974379   -0.273642    1.572985    2.057472    0.327919   \n",
      "\n",
      "       pseudo_5.1  \n",
      "0        1.651238  \n",
      "1       -0.900246  \n",
      "2       -0.967390  \n",
      "3       -0.094514  \n",
      "4       -0.765957  \n",
      "...           ...  \n",
      "54459    0.241207  \n",
      "54460   -1.101679  \n",
      "54461   -0.765957  \n",
      "54462   -0.497380  \n",
      "54463   -0.698813  \n",
      "\n",
      "[54464 rows x 171 columns]\n"
     ]
    }
   ],
   "source": [
    "print(X_train_df)"
   ]
  },
  {
   "cell_type": "code",
   "execution_count": 14,
   "metadata": {},
   "outputs": [
    {
     "name": "stdout",
     "output_type": "stream",
     "text": [
      "(54464, 171)\n",
      "(4329, 171)\n"
     ]
    }
   ],
   "source": [
    "print(X_train.shape)  \n",
    "print(X_val.shape)  "
   ]
  },
  {
   "cell_type": "markdown",
   "metadata": {},
   "source": [
    "MODEL TRAINING"
   ]
  },
  {
   "cell_type": "code",
   "execution_count": 86,
   "metadata": {},
   "outputs": [
    {
     "name": "stderr",
     "output_type": "stream",
     "text": [
      "c:\\Users\\karur\\AppData\\Local\\Programs\\Python\\Python311\\Lib\\site-packages\\tqdm\\auto.py:21: TqdmWarning: IProgress not found. Please update jupyter and ipywidgets. See https://ipywidgets.readthedocs.io/en/stable/user_install.html\n",
      "  from .autonotebook import tqdm as notebook_tqdm\n",
      "[I 2024-12-24 14:06:30,409] A new study created in memory with name: no-name-cd81ea6e-6036-4067-bca1-38364deb0273\n"
     ]
    },
    {
     "name": "stdout",
     "output_type": "stream",
     "text": [
      "Optimizing RandomForest...\n"
     ]
    },
    {
     "name": "stderr",
     "output_type": "stream",
     "text": [
      "[I 2024-12-24 14:06:57,183] Trial 0 finished with value: 0.5105105105105106 and parameters: {'n_estimators': 279, 'max_depth': 42}. Best is trial 0 with value: 0.5105105105105106.\n",
      "[I 2024-12-24 14:07:03,762] Trial 1 finished with value: 0.5123585123585124 and parameters: {'n_estimators': 73, 'max_depth': 19}. Best is trial 1 with value: 0.5123585123585124.\n",
      "[I 2024-12-24 14:07:12,441] Trial 2 finished with value: 0.507969507969508 and parameters: {'n_estimators': 91, 'max_depth': 26}. Best is trial 1 with value: 0.5123585123585124.\n",
      "[I 2024-12-24 14:07:35,151] Trial 3 finished with value: 0.5077385077385077 and parameters: {'n_estimators': 241, 'max_depth': 36}. Best is trial 1 with value: 0.5123585123585124.\n",
      "[I 2024-12-24 14:07:41,627] Trial 4 finished with value: 0.5063525063525064 and parameters: {'n_estimators': 176, 'max_depth': 5}. Best is trial 1 with value: 0.5123585123585124.\n",
      "[I 2024-12-24 14:08:18,675] Trial 5 finished with value: 0.5105105105105106 and parameters: {'n_estimators': 396, 'max_depth': 42}. Best is trial 1 with value: 0.5123585123585124.\n",
      "[I 2024-12-24 14:08:33,625] Trial 6 finished with value: 0.507969507969508 and parameters: {'n_estimators': 160, 'max_depth': 28}. Best is trial 1 with value: 0.5123585123585124.\n",
      "[I 2024-12-24 14:09:08,087] Trial 7 finished with value: 0.5082005082005082 and parameters: {'n_estimators': 435, 'max_depth': 31}. Best is trial 1 with value: 0.5123585123585124.\n",
      "[I 2024-12-24 14:09:40,088] Trial 8 finished with value: 0.5123585123585124 and parameters: {'n_estimators': 438, 'max_depth': 27}. Best is trial 1 with value: 0.5123585123585124.\n",
      "[I 2024-12-24 14:09:54,722] Trial 9 finished with value: 0.5082005082005082 and parameters: {'n_estimators': 204, 'max_depth': 41}. Best is trial 1 with value: 0.5123585123585124.\n",
      "[I 2024-12-24 14:09:57,492] Trial 10 finished with value: 0.5065835065835066 and parameters: {'n_estimators': 52, 'max_depth': 12}. Best is trial 1 with value: 0.5123585123585124.\n",
      "[I 2024-12-24 14:10:19,737] Trial 11 finished with value: 0.5091245091245091 and parameters: {'n_estimators': 342, 'max_depth': 18}. Best is trial 1 with value: 0.5123585123585124.\n",
      "[I 2024-12-24 14:10:53,321] Trial 12 finished with value: 0.5095865095865096 and parameters: {'n_estimators': 500, 'max_depth': 20}. Best is trial 1 with value: 0.5123585123585124.\n",
      "[I 2024-12-24 14:11:15,855] Trial 13 finished with value: 0.507969507969508 and parameters: {'n_estimators': 334, 'max_depth': 21}. Best is trial 1 with value: 0.5123585123585124.\n",
      "[I 2024-12-24 14:11:24,138] Trial 14 finished with value: 0.5086625086625086 and parameters: {'n_estimators': 115, 'max_depth': 49}. Best is trial 1 with value: 0.5123585123585124.\n",
      "[I 2024-12-24 14:11:43,203] Trial 15 finished with value: 0.5102795102795102 and parameters: {'n_estimators': 479, 'max_depth': 8}. Best is trial 1 with value: 0.5123585123585124.\n",
      "[I 2024-12-24 14:12:02,822] Trial 16 finished with value: 0.5065835065835066 and parameters: {'n_estimators': 280, 'max_depth': 25}. Best is trial 1 with value: 0.5123585123585124.\n",
      "[I 2024-12-24 14:12:23,223] Trial 17 finished with value: 0.5072765072765073 and parameters: {'n_estimators': 362, 'max_depth': 13}. Best is trial 1 with value: 0.5123585123585124.\n",
      "[I 2024-12-24 14:12:53,353] Trial 18 finished with value: 0.5107415107415108 and parameters: {'n_estimators': 426, 'max_depth': 35}. Best is trial 1 with value: 0.5123585123585124.\n",
      "[I 2024-12-24 14:13:12,353] Trial 19 finished with value: 0.507045507045507 and parameters: {'n_estimators': 305, 'max_depth': 16}. Best is trial 1 with value: 0.5123585123585124.\n",
      "[I 2024-12-24 14:13:12,353] A new study created in memory with name: no-name-e2c71378-3305-4e1e-9a32-b705cdac0ffe\n"
     ]
    },
    {
     "name": "stdout",
     "output_type": "stream",
     "text": [
      "Best RF Params: {'n_estimators': 73, 'max_depth': 19}\n",
      "Optimizing XGBoost...\n"
     ]
    },
    {
     "name": "stderr",
     "output_type": "stream",
     "text": [
      "[I 2024-12-24 14:13:13,068] Trial 0 finished with value: 0.5202125202125202 and parameters: {'n_estimators': 247, 'max_depth': 3, 'learning_rate': 0.16026868201104433}. Best is trial 0 with value: 0.5202125202125202.\n",
      "[I 2024-12-24 14:13:14,369] Trial 1 finished with value: 0.525063525063525 and parameters: {'n_estimators': 204, 'max_depth': 9, 'learning_rate': 0.10221464534536827}. Best is trial 1 with value: 0.525063525063525.\n",
      "[I 2024-12-24 14:13:16,606] Trial 2 finished with value: 0.5354585354585355 and parameters: {'n_estimators': 433, 'max_depth': 8, 'learning_rate': 0.10502408455728825}. Best is trial 2 with value: 0.5354585354585355.\n",
      "[I 2024-12-24 14:13:19,574] Trial 3 finished with value: 0.5352275352275352 and parameters: {'n_estimators': 481, 'max_depth': 9, 'learning_rate': 0.22155299373523285}. Best is trial 2 with value: 0.5354585354585355.\n",
      "[I 2024-12-24 14:13:20,698] Trial 4 finished with value: 0.5282975282975283 and parameters: {'n_estimators': 357, 'max_depth': 4, 'learning_rate': 0.19843770345515535}. Best is trial 2 with value: 0.5354585354585355.\n",
      "[I 2024-12-24 14:13:21,927] Trial 5 finished with value: 0.5148995148995149 and parameters: {'n_estimators': 124, 'max_depth': 11, 'learning_rate': 0.18597677256528683}. Best is trial 2 with value: 0.5354585354585355.\n",
      "[I 2024-12-24 14:13:24,042] Trial 6 finished with value: 0.5282975282975283 and parameters: {'n_estimators': 236, 'max_depth': 11, 'learning_rate': 0.14675254761084927}. Best is trial 2 with value: 0.5354585354585355.\n",
      "[I 2024-12-24 14:13:25,092] Trial 7 finished with value: 0.5345345345345346 and parameters: {'n_estimators': 272, 'max_depth': 5, 'learning_rate': 0.18112708878470424}. Best is trial 2 with value: 0.5354585354585355.\n",
      "[I 2024-12-24 14:13:26,019] Trial 8 finished with value: 0.5192885192885193 and parameters: {'n_estimators': 82, 'max_depth': 11, 'learning_rate': 0.085173895899365}. Best is trial 2 with value: 0.5354585354585355.\n",
      "[I 2024-12-24 14:13:28,297] Trial 9 finished with value: 0.5333795333795334 and parameters: {'n_estimators': 336, 'max_depth': 9, 'learning_rate': 0.2204765502718495}. Best is trial 2 with value: 0.5354585354585355.\n",
      "[I 2024-12-24 14:13:33,861] Trial 10 finished with value: 0.5135135135135135 and parameters: {'n_estimators': 461, 'max_depth': 14, 'learning_rate': 0.022570575936811388}. Best is trial 2 with value: 0.5354585354585355.\n",
      "[I 2024-12-24 14:13:36,552] Trial 11 finished with value: 0.5352275352275352 and parameters: {'n_estimators': 489, 'max_depth': 7, 'learning_rate': 0.2959397079162296}. Best is trial 2 with value: 0.5354585354585355.\n",
      "[I 2024-12-24 14:13:38,590] Trial 12 finished with value: 0.5352275352275352 and parameters: {'n_estimators': 422, 'max_depth': 6, 'learning_rate': 0.2647897639618655}. Best is trial 2 with value: 0.5354585354585355.\n",
      "[I 2024-12-24 14:13:41,115] Trial 13 finished with value: 0.5294525294525294 and parameters: {'n_estimators': 397, 'max_depth': 8, 'learning_rate': 0.10315563268710323}. Best is trial 2 with value: 0.5354585354585355.\n",
      "[I 2024-12-24 14:13:45,221] Trial 14 finished with value: 0.5343035343035343 and parameters: {'n_estimators': 493, 'max_depth': 12, 'learning_rate': 0.24372438669570348}. Best is trial 2 with value: 0.5354585354585355.\n",
      "[I 2024-12-24 14:13:50,050] Trial 15 finished with value: 0.5215985215985216 and parameters: {'n_estimators': 326, 'max_depth': 15, 'learning_rate': 0.04307472233453337}. Best is trial 2 with value: 0.5354585354585355.\n",
      "[I 2024-12-24 14:13:52,360] Trial 16 finished with value: 0.5317625317625317 and parameters: {'n_estimators': 416, 'max_depth': 7, 'learning_rate': 0.13168040387514995}. Best is trial 2 with value: 0.5354585354585355.\n",
      "[I 2024-12-24 14:13:57,021] Trial 17 finished with value: 0.5202125202125202 and parameters: {'n_estimators': 433, 'max_depth': 13, 'learning_rate': 0.06499441162610628}. Best is trial 2 with value: 0.5354585354585355.\n",
      "[I 2024-12-24 14:14:00,092] Trial 18 finished with value: 0.5299145299145299 and parameters: {'n_estimators': 367, 'max_depth': 10, 'learning_rate': 0.1254698607254048}. Best is trial 2 with value: 0.5354585354585355.\n",
      "[I 2024-12-24 14:14:01,448] Trial 19 finished with value: 0.5336105336105336 and parameters: {'n_estimators': 186, 'max_depth': 8, 'learning_rate': 0.2338558211598868}. Best is trial 2 with value: 0.5354585354585355.\n",
      "[I 2024-12-24 14:14:01,452] A new study created in memory with name: no-name-ce6ac2d0-8d2f-4ce7-a90b-0c624857e873\n"
     ]
    },
    {
     "name": "stdout",
     "output_type": "stream",
     "text": [
      "Best XGB Params: {'n_estimators': 433, 'max_depth': 8, 'learning_rate': 0.10502408455728825}\n",
      "Optimizing SVC...\n"
     ]
    },
    {
     "name": "stderr",
     "output_type": "stream",
     "text": [
      "[I 2024-12-24 14:37:43,997] Trial 0 finished with value: 0.5095865095865096 and parameters: {'C': 1.027119577586157, 'gamma': 0.07452782414405018}. Best is trial 0 with value: 0.5095865095865096.\n",
      "[I 2024-12-24 14:53:38,601] Trial 1 finished with value: 0.5015015015015015 and parameters: {'C': 9.120900497313164, 'gamma': 0.16250005379520402}. Best is trial 0 with value: 0.5095865095865096.\n",
      "[I 2024-12-24 15:10:30,435] Trial 2 finished with value: 0.49387849387849386 and parameters: {'C': 3.424183325974879, 'gamma': 0.26744103468589864}. Best is trial 0 with value: 0.5095865095865096.\n",
      "[I 2024-12-24 15:31:21,963] Trial 3 finished with value: 0.4934164934164934 and parameters: {'C': 6.87836198261601, 'gamma': 0.34630517267027455}. Best is trial 0 with value: 0.5095865095865096.\n",
      "[I 2024-12-24 15:51:06,382] Trial 4 finished with value: 0.4952644952644953 and parameters: {'C': 5.670352702040881, 'gamma': 0.1956763785201616}. Best is trial 0 with value: 0.5095865095865096.\n",
      "[I 2024-12-24 16:11:20,382] Trial 5 finished with value: 0.4945714945714946 and parameters: {'C': 9.739464831755502, 'gamma': 0.2497336889978186}. Best is trial 0 with value: 0.5095865095865096.\n",
      "[I 2024-12-24 16:34:33,906] Trial 6 finished with value: 0.4934164934164934 and parameters: {'C': 2.961907831866322, 'gamma': 0.6744974714312827}. Best is trial 0 with value: 0.5095865095865096.\n",
      "[I 2024-12-24 16:53:59,669] Trial 7 finished with value: 0.5012705012705013 and parameters: {'C': 2.0644260937882737, 'gamma': 0.16610164080462742}. Best is trial 0 with value: 0.5095865095865096.\n",
      "[I 2024-12-24 17:20:36,582] Trial 8 finished with value: 0.4934164934164934 and parameters: {'C': 4.077284646581104, 'gamma': 0.3183535064715949}. Best is trial 0 with value: 0.5095865095865096.\n",
      "[I 2024-12-24 17:45:57,295] Trial 9 finished with value: 0.4934164934164934 and parameters: {'C': 7.933909364853405, 'gamma': 0.7372923788305116}. Best is trial 0 with value: 0.5095865095865096.\n",
      "[I 2024-12-24 17:53:13,856] Trial 10 finished with value: 0.5061215061215061 and parameters: {'C': 0.22452071146424324, 'gamma': 0.038298813196980926}. Best is trial 0 with value: 0.5095865095865096.\n",
      "[I 2024-12-24 18:01:35,215] Trial 11 finished with value: 0.5051975051975052 and parameters: {'C': 0.2849684358735723, 'gamma': 0.03957728840442446}. Best is trial 0 with value: 0.5095865095865096.\n",
      "[I 2024-12-24 18:12:55,155] Trial 12 finished with value: 0.4934164934164934 and parameters: {'C': 0.409379430775503, 'gamma': 0.9959704858001165}. Best is trial 0 with value: 0.5095865095865096.\n",
      "[I 2024-12-24 18:21:13,814] Trial 13 finished with value: 0.5754215754215755 and parameters: {'C': 1.5204522737212365, 'gamma': 0.015560763543014326}. Best is trial 13 with value: 0.5754215754215755.\n",
      "[I 2024-12-24 18:39:57,097] Trial 14 finished with value: 0.4934164934164934 and parameters: {'C': 2.1636566134606205, 'gamma': 0.4762530860267603}. Best is trial 13 with value: 0.5754215754215755.\n",
      "[I 2024-12-24 18:42:53,895] Trial 15 finished with value: 0.5585585585585585 and parameters: {'C': 1.5981634859971297, 'gamma': 0.005650295787249061}. Best is trial 13 with value: 0.5754215754215755.\n",
      "[I 2024-12-24 19:01:51,678] Trial 16 finished with value: 0.4934164934164934 and parameters: {'C': 4.856487808669895, 'gamma': 0.47625397775915884}. Best is trial 13 with value: 0.5754215754215755.\n",
      "[I 2024-12-24 19:04:01,379] Trial 17 finished with value: 0.5449295449295449 and parameters: {'C': 1.8751916820669225, 'gamma': 0.0033375573387118946}. Best is trial 13 with value: 0.5754215754215755.\n",
      "[I 2024-12-24 19:22:37,592] Trial 18 finished with value: 0.4934164934164934 and parameters: {'C': 5.655052041075417, 'gamma': 0.5917145861342975}. Best is trial 13 with value: 0.5754215754215755.\n",
      "[I 2024-12-24 19:43:04,402] Trial 19 finished with value: 0.4934164934164934 and parameters: {'C': 3.032243520783617, 'gamma': 0.38530058324016747}. Best is trial 13 with value: 0.5754215754215755.\n"
     ]
    },
    {
     "name": "stdout",
     "output_type": "stream",
     "text": [
      "Best SVC Params: {'C': 1.5204522737212365, 'gamma': 0.015560763543014326}\n",
      "Accuracy score by Stacking Model: 60.0601 %\n"
     ]
    }
   ],
   "source": [
    "import optuna\n",
    "\n",
    "from sklearn.impute import SimpleImputer\n",
    "\n",
    "imputer = SimpleImputer(strategy='mean')  # Replace NaN with mean\n",
    "X_train = imputer.fit_transform(X_train)\n",
    "X_val = imputer.transform(X_val)\n",
    "SEED = 42\n",
    "\n",
    "# Define optimization functions for models\n",
    "def optimize_rf(trial):\n",
    "    n_estimators = trial.suggest_int(\"n_estimators\", 50, 500)\n",
    "    max_depth = trial.suggest_int(\"max_depth\", 5, 50)\n",
    "    rf_model = RandomForestClassifier(n_estimators=n_estimators, max_depth=max_depth, random_state=SEED)\n",
    "    rf_model.fit(X_train, train_y)\n",
    "    return accuracy_score(validation_y, rf_model.predict(X_val))\n",
    "\n",
    "def optimize_xgb(trial):\n",
    "    n_estimators = trial.suggest_int(\"n_estimators\", 50, 500)\n",
    "    max_depth = trial.suggest_int(\"max_depth\", 3, 15)\n",
    "    learning_rate = trial.suggest_float(\"learning_rate\", 0.01, 0.3)\n",
    "    xgb_model = XGBClassifier(n_estimators=n_estimators, max_depth=max_depth, learning_rate=learning_rate, random_state=SEED)\n",
    "    xgb_model.fit(X_train, train_y)\n",
    "    return accuracy_score(validation_y, xgb_model.predict(X_val))\n",
    "\n",
    "def optimize_svc(trial):\n",
    "    C = trial.suggest_float(\"C\", 0.1, 10.0)\n",
    "    gamma = trial.suggest_float(\"gamma\", 0.001, 1.0)\n",
    "    svc_model = SVC(C=C, gamma=gamma, kernel='rbf', random_state=SEED)\n",
    "    svc_model.fit(X_train, train_y)\n",
    "    return accuracy_score(validation_y, svc_model.predict(X_val))\n",
    "\n",
    "# Run Optuna optimization for each model\n",
    "print(\"Optimizing RandomForest...\")\n",
    "study_rf = optuna.create_study(direction=\"maximize\")\n",
    "study_rf.optimize(optimize_rf, n_trials=20)\n",
    "rf_best_params = study_rf.best_params\n",
    "print(\"Best RF Params:\", rf_best_params)\n",
    "\n",
    "print(\"Optimizing XGBoost...\")\n",
    "study_xgb = optuna.create_study(direction=\"maximize\")\n",
    "study_xgb.optimize(optimize_xgb, n_trials=20)\n",
    "xgb_best_params = study_xgb.best_params\n",
    "print(\"Best XGB Params:\", xgb_best_params)\n",
    "\n",
    "print(\"Optimizing SVC...\")\n",
    "study_svc = optuna.create_study(direction=\"maximize\")\n",
    "study_svc.optimize(optimize_svc, n_trials=20)\n",
    "svc_best_params = study_svc.best_params\n",
    "print(\"Best SVC Params:\", svc_best_params)\n",
    "\n",
    "# Use the optimized parameters in the estimators\n",
    "estimators = [\n",
    "    ('rf', RandomForestClassifier(**rf_best_params, random_state=SEED)),\n",
    "    ('svr', make_pipeline(StandardScaler(),\n",
    "                           LinearSVC(random_state=SEED))),  # Keeping this unchanged\n",
    "    ('xgb', XGBClassifier(**xgb_best_params, random_state=SEED)),\n",
    "    ('svcl', make_pipeline(StandardScaler(), KNeighborsClassifier(n_neighbors=3, p=1))),  # Keeping this unchanged\n",
    "    ('svcr', make_pipeline(StandardScaler(), SVC(**svc_best_params, random_state=SEED)))\n",
    "]\n",
    "\n",
    "# Final stacking classifier\n",
    "clf = StackingClassifier(estimators=estimators, final_estimator=LogisticRegression(random_state=SEED))\n",
    "clf.fit(X_train, train_y)\n",
    "\n",
    "# Evaluate the model\n",
    "y_pred = clf.predict(X_val)\n",
    "clf_score = round(accuracy_score(y_pred, validation_y) * 100, 4)\n",
    "print(\"Accuracy score by Stacking Model:\", clf_score, \"%\")\n"
   ]
  },
  {
   "cell_type": "markdown",
   "metadata": {},
   "source": [
    "TESTING"
   ]
  },
  {
   "cell_type": "code",
   "execution_count": null,
   "metadata": {},
   "outputs": [
    {
     "name": "stdout",
     "output_type": "stream",
     "text": [
      "Combining test features...\n"
     ]
    }
   ],
   "source": [
    "def combine_features(file_paths, label_column=\"label\"):\n",
    "\n",
    "    combined_features = None\n",
    "    for file_path in file_paths:\n",
    "        data = pd.read_csv(file_path)\n",
    "        if combined_features is None:\n",
    "            combined_features = data\n",
    "        else:\n",
    "            combined_features = pd.concat([combined_features, data.drop(columns=[label_column])], axis=1)\n",
    "    return combined_features\n",
    "\n",
    "# File paths for the 5 encoding methods (test set)\n",
    "test_files = [\n",
    "    \"test_kmer.csv\",\n",
    "    \"test_dpcp.csv\",\n",
    "    \"test_pcpsednc.csv\",\n",
    "    \"test_scp.csv\",\n",
    "    \"test_pseknc.csv\"\n",
    "]\n",
    "\n",
    "\n",
    "\n",
    "# Combine features\n",
    "print(\"Combining test features...\")\n",
    "test_combined = combine_features(test_files)\n",
    "test_labels = pd.read_csv(train_files[0])[\"label\"]  \n",
    "test_combined[\"label\"] = test_labels"
   ]
  },
  {
   "cell_type": "code",
   "execution_count": 16,
   "metadata": {},
   "outputs": [],
   "source": [
    "test_X = test_combined.drop(columns=[\"label\"])\n",
    "test_y = test_combined[\"label\"]"
   ]
  },
  {
   "cell_type": "code",
   "execution_count": 91,
   "metadata": {},
   "outputs": [
    {
     "name": "stdout",
     "output_type": "stream",
     "text": [
      "label\n",
      "1    1096\n",
      "Name: count, dtype: int64\n"
     ]
    }
   ],
   "source": [
    "print(test_y.value_counts())"
   ]
  },
  {
   "cell_type": "code",
   "execution_count": 17,
   "metadata": {},
   "outputs": [
    {
     "name": "stdout",
     "output_type": "stream",
     "text": [
      "(1096, 329)\n"
     ]
    }
   ],
   "source": [
    "print(test_X.shape)"
   ]
  },
  {
   "cell_type": "code",
   "execution_count": null,
   "metadata": {},
   "outputs": [],
   "source": [
    "import pandas as pd\n",
    "\n",
    "original_features = list(X_train_df.columns)\n",
    "train_data = pd.DataFrame(X_train, columns=original_features)\n"
   ]
  },
  {
   "cell_type": "code",
   "execution_count": 35,
   "metadata": {},
   "outputs": [
    {
     "name": "stdout",
     "output_type": "stream",
     "text": [
      "Index(['AAA', 'AAC', 'AAG', 'AAU', 'ACA', 'ACC', 'ACG', 'ACU', 'AGA', 'AGC',\n",
      "       ...\n",
      "       'comp_GU', 'comp_UA', 'comp_UC', 'comp_UG', 'comp_UU', 'pseudo_1',\n",
      "       'pseudo_2', 'pseudo_3', 'pseudo_4', 'pseudo_5'],\n",
      "      dtype='object', length=329)\n"
     ]
    }
   ],
   "source": [
    "print(test_X.columns)  "
   ]
  },
  {
   "cell_type": "code",
   "execution_count": 66,
   "metadata": {},
   "outputs": [
    {
     "name": "stdout",
     "output_type": "stream",
     "text": [
      "Shape of test_X after removing duplicates: (1096, 234)\n"
     ]
    }
   ],
   "source": [
    "# Drop duplicate columns from test set\n",
    "test_X = test_X.loc[:, ~test_X.columns.duplicated()]\n",
    "\n",
    "print(\"Shape of test_X after removing duplicates:\", test_X.shape)"
   ]
  },
  {
   "cell_type": "code",
   "execution_count": 72,
   "metadata": {},
   "outputs": [],
   "source": [
    "extra_cols = set(test_X.columns) - set(train_data.columns)\n",
    "existing_extra_cols = extra_cols.intersection(test_X.columns)\n",
    "test_data = test_X.drop(columns=existing_extra_cols)"
   ]
  },
  {
   "cell_type": "code",
   "execution_count": 73,
   "metadata": {},
   "outputs": [
    {
     "name": "stdout",
     "output_type": "stream",
     "text": [
      "(1096, 170)\n"
     ]
    }
   ],
   "source": [
    "print(test_data.shape)"
   ]
  },
  {
   "cell_type": "code",
   "execution_count": 74,
   "metadata": {},
   "outputs": [
    {
     "name": "stdout",
     "output_type": "stream",
     "text": [
      "Columns in train but not in test: {'sc_lambda_1'}\n",
      "Columns in test but not in train: set()\n"
     ]
    }
   ],
   "source": [
    "print(\"Columns in train but not in test:\", set(train_data.columns) - set(test_data.columns))\n",
    "print(\"Columns in test but not in train:\", set(test_data.columns) - set(train_data.columns))"
   ]
  },
  {
   "cell_type": "code",
   "execution_count": 75,
   "metadata": {},
   "outputs": [
    {
     "name": "stdout",
     "output_type": "stream",
     "text": [
      "Missing columns in test data: {'sc_lambda_1'}\n"
     ]
    }
   ],
   "source": [
    "missing_cols = set(train_data.columns) - set(test_data.columns)\n",
    "print(\"Missing columns in test data:\", missing_cols)\n",
    "\n",
    "for col in missing_cols:\n",
    "    # Add missing column with a default value (e.g., 0 for numerical or 'unknown' for categorical)\n",
    "    test_data[col] = train_data[col].mean()\n"
   ]
  },
  {
   "cell_type": "code",
   "execution_count": 76,
   "metadata": {},
   "outputs": [
    {
     "name": "stdout",
     "output_type": "stream",
     "text": [
      "(1096, 171)\n"
     ]
    }
   ],
   "source": [
    "print(test_data.shape)"
   ]
  },
  {
   "cell_type": "code",
   "execution_count": 78,
   "metadata": {},
   "outputs": [
    {
     "name": "stdout",
     "output_type": "stream",
     "text": [
      "Train columns sorted: ['AAA', 'AAA.1', 'AAC', 'AAC.1', 'AAG', 'AAG.1', 'AAU', 'AAU.1', 'ACA', 'ACA.1', 'ACC', 'ACC.1', 'ACG', 'ACG.1', 'ACU', 'ACU.1', 'AGA', 'AGA.1', 'AGC', 'AGC.1', 'AGG', 'AGG.1', 'AGU', 'AGU.1', 'AUA', 'AUA.1', 'AUC', 'AUC.1', 'AUG', 'AUG.1', 'AUU', 'AUU.1', 'CAA', 'CAA.1', 'CAC', 'CAC.1', 'CAG', 'CAG.1', 'CAU', 'CAU.1', 'CCA', 'CCA.1', 'CCC', 'CCC.1', 'CCG', 'CCG.1', 'CCU', 'CCU.1', 'CGA', 'CGA.1', 'CGC', 'CGC.1', 'CGG', 'CGG.1', 'CGU', 'CGU.1', 'CUA', 'CUA.1', 'CUC', 'CUC.1', 'CUG', 'CUG.1', 'CUU', 'CUU.1', 'GAA', 'GAA.1', 'GAC', 'GAC.1', 'GAG', 'GAG.1', 'GAU', 'GAU.1', 'GCA', 'GCA.1', 'GCC', 'GCC.1', 'GCG', 'GCG.1', 'GCU', 'GCU.1', 'GGA', 'GGA.1', 'GGC', 'GGC.1', 'GGG', 'GGG.1', 'GGU', 'GGU.1', 'GUA', 'GUA.1', 'GUC', 'GUC.1', 'GUG', 'GUG.1', 'GUU', 'GUU.1', 'UAA', 'UAA.1', 'UAC', 'UAC.1', 'UAG', 'UAG.1', 'UAU', 'UAU.1', 'UCA', 'UCA.1', 'UCC', 'UCC.1', 'UCG', 'UCG.1', 'UCU', 'UCU.1', 'UGA', 'UGA.1', 'UGC', 'UGC.1', 'UGG', 'UGG.1', 'UGU', 'UGU.1', 'UUA', 'UUA.1', 'UUC', 'UUC.1', 'UUG', 'UUG.1', 'UUU', 'UUU.1', 'pcp_AA', 'pcp_AA.1', 'pcp_AC', 'pcp_AC.1', 'pcp_AG', 'pcp_AG.1', 'pcp_AU', 'pcp_AU.1', 'pcp_CA', 'pcp_CA.1', 'pcp_CC', 'pcp_CC.1', 'pcp_CG', 'pcp_CG.1', 'pcp_CU', 'pcp_CU.1', 'pcp_GA', 'pcp_GA.1', 'pcp_GC', 'pcp_GC.1', 'pcp_GG', 'pcp_GG.1', 'pcp_GU', 'pcp_GU.1', 'pcp_UA', 'pcp_UA.1', 'pcp_UC', 'pcp_UC.1', 'pcp_UG', 'pcp_UG.1', 'pcp_UU', 'pcp_UU.1', 'pseudo_1', 'pseudo_1.1', 'pseudo_2', 'pseudo_2.1', 'pseudo_3', 'pseudo_3.1', 'pseudo_4', 'pseudo_4.1', 'pseudo_5', 'pseudo_5.1', 'sc_lambda_1']\n",
      "Test columns sorted: ['AAA', 'AAA.1', 'AAC', 'AAC.1', 'AAG', 'AAG.1', 'AAU', 'AAU.1', 'ACA', 'ACA.1', 'ACC', 'ACC.1', 'ACG', 'ACG.1', 'ACU', 'ACU.1', 'AGA', 'AGA.1', 'AGC', 'AGC.1', 'AGG', 'AGG.1', 'AGU', 'AGU.1', 'AUA', 'AUA.1', 'AUC', 'AUC.1', 'AUG', 'AUG.1', 'AUU', 'AUU.1', 'CAA', 'CAA.1', 'CAC', 'CAC.1', 'CAG', 'CAG.1', 'CAU', 'CAU.1', 'CCA', 'CCA.1', 'CCC', 'CCC.1', 'CCG', 'CCG.1', 'CCU', 'CCU.1', 'CGA', 'CGA.1', 'CGC', 'CGC.1', 'CGG', 'CGG.1', 'CGU', 'CGU.1', 'CUA', 'CUA.1', 'CUC', 'CUC.1', 'CUG', 'CUG.1', 'CUU', 'CUU.1', 'GAA', 'GAA.1', 'GAC', 'GAC.1', 'GAG', 'GAG.1', 'GAU', 'GAU.1', 'GCA', 'GCA.1', 'GCC', 'GCC.1', 'GCG', 'GCG.1', 'GCU', 'GCU.1', 'GGA', 'GGA.1', 'GGC', 'GGC.1', 'GGG', 'GGG.1', 'GGU', 'GGU.1', 'GUA', 'GUA.1', 'GUC', 'GUC.1', 'GUG', 'GUG.1', 'GUU', 'GUU.1', 'UAA', 'UAA.1', 'UAC', 'UAC.1', 'UAG', 'UAG.1', 'UAU', 'UAU.1', 'UCA', 'UCA.1', 'UCC', 'UCC.1', 'UCG', 'UCG.1', 'UCU', 'UCU.1', 'UGA', 'UGA.1', 'UGC', 'UGC.1', 'UGG', 'UGG.1', 'UGU', 'UGU.1', 'UUA', 'UUA.1', 'UUC', 'UUC.1', 'UUG', 'UUG.1', 'UUU', 'UUU.1', 'pcp_AA', 'pcp_AA.1', 'pcp_AC', 'pcp_AC.1', 'pcp_AG', 'pcp_AG.1', 'pcp_AU', 'pcp_AU.1', 'pcp_CA', 'pcp_CA.1', 'pcp_CC', 'pcp_CC.1', 'pcp_CG', 'pcp_CG.1', 'pcp_CU', 'pcp_CU.1', 'pcp_GA', 'pcp_GA.1', 'pcp_GC', 'pcp_GC.1', 'pcp_GG', 'pcp_GG.1', 'pcp_GU', 'pcp_GU.1', 'pcp_UA', 'pcp_UA.1', 'pcp_UC', 'pcp_UC.1', 'pcp_UG', 'pcp_UG.1', 'pcp_UU', 'pcp_UU.1', 'pseudo_1', 'pseudo_1.1', 'pseudo_2', 'pseudo_2.1', 'pseudo_3', 'pseudo_3.1', 'pseudo_4', 'pseudo_4.1', 'pseudo_5', 'pseudo_5.1', 'sc_lambda_1']\n",
      "171\n",
      "171\n"
     ]
    }
   ],
   "source": [
    "train_cols = list(train_data.columns)\n",
    "test_cols = list(test_data.columns)\n",
    "\n",
    "print(\"Train columns sorted:\", sorted(train_cols))\n",
    "print(\"Test columns sorted:\", sorted(test_cols))\n",
    "print(len(train_cols))\n",
    "print(len(test_cols))\n"
   ]
  },
  {
   "cell_type": "code",
   "execution_count": 79,
   "metadata": {},
   "outputs": [],
   "source": [
    "test_data = test_data[train_data.columns]\n"
   ]
  },
  {
   "cell_type": "code",
   "execution_count": 81,
   "metadata": {},
   "outputs": [
    {
     "name": "stdout",
     "output_type": "stream",
     "text": [
      "(1096, 171)\n",
      "(54464, 171)\n"
     ]
    }
   ],
   "source": [
    "print(test_data.shape)\n",
    "print(X_train.shape)"
   ]
  },
  {
   "cell_type": "code",
   "execution_count": null,
   "metadata": {},
   "outputs": [
    {
     "name": "stderr",
     "output_type": "stream",
     "text": [
      "c:\\Users\\karur\\AppData\\Local\\Programs\\Python\\Python311\\Lib\\site-packages\\sklearn\\base.py:486: UserWarning: X has feature names, but StandardScaler was fitted without feature names\n",
      "  warnings.warn(\n"
     ]
    },
    {
     "name": "stdout",
     "output_type": "stream",
     "text": [
      "Sample test labels: 0    1\n",
      "1    1\n",
      "2    1\n",
      "3    1\n",
      "4    1\n",
      "5    1\n",
      "6    1\n",
      "7    1\n",
      "8    1\n",
      "9    1\n",
      "Name: label, dtype: int64\n",
      "Predicted labels: [1 1 1 1 1 1 1 1 1 1]\n",
      "Training class distribution:\n",
      "label\n",
      "0    27469\n",
      "1    26995\n",
      "Name: count, dtype: int64\n",
      "Test class distribution:\n",
      "label\n",
      "1    1096\n",
      "Name: count, dtype: int64\n",
      "Accuracy: 1.0\n",
      "Classification Report:\n",
      "               precision    recall  f1-score   support\n",
      "\n",
      "           1       1.00      1.00      1.00      1096\n",
      "\n",
      "    accuracy                           1.00      1096\n",
      "   macro avg       1.00      1.00      1.00      1096\n",
      "weighted avg       1.00      1.00      1.00      1096\n",
      "\n"
     ]
    }
   ],
   "source": [
    "def fit_scaler_and_evaluate(X_train,test_X, test_y, clf):\n",
    "\n",
    "    try:\n",
    "        # Fit the scaler on the training data\n",
    "        scaler = StandardScaler()\n",
    "        scaler.fit(X_train)\n",
    "\n",
    "        # Scale the test data\n",
    "        test_X_scaled = scaler.transform(test_data)\n",
    "        print(\"Sample test labels:\", test_y[:10])\n",
    "        print(\"Predicted labels:\", clf.predict(test_X_scaled)[:10])\n",
    "\n",
    "        # Prediction\n",
    "        test_predictions = clf.predict(test_X_scaled)\n",
    "        \n",
    "        print(\"Training class distribution:\")\n",
    "        print(train_y.value_counts())\n",
    "        print(\"Test class distribution:\")\n",
    "        print(test_y.value_counts())\n",
    "\n",
    "        # Print evaluation results\n",
    "        print(\"Accuracy:\", accuracy_score(test_y, test_predictions))\n",
    "        print(\"Classification Report:\\n\", classification_report(test_y, test_predictions))\n",
    "    except Exception as e:\n",
    "        print(f\"Error during scaling or evaluation: {e}\")\n",
    "\n",
    "\n",
    "\n",
    "fit_scaler_and_evaluate(X_train,test_data, test_y, clf)\n"
   ]
  }
 ],
 "metadata": {
  "kernelspec": {
   "display_name": "Python 3",
   "language": "python",
   "name": "python3"
  },
  "language_info": {
   "codemirror_mode": {
    "name": "ipython",
    "version": 3
   },
   "file_extension": ".py",
   "mimetype": "text/x-python",
   "name": "python",
   "nbconvert_exporter": "python",
   "pygments_lexer": "ipython3",
   "version": "3.11.5"
  }
 },
 "nbformat": 4,
 "nbformat_minor": 2
}
